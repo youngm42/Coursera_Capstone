{
 "cells": [
  {
   "cell_type": "markdown",
   "metadata": {},
   "source": [
    "# Vaction Picker\n",
    "---"
   ]
  },
  {
   "cell_type": "markdown",
   "metadata": {},
   "source": [
    "## Introduction"
   ]
  },
  {
   "cell_type": "markdown",
   "metadata": {},
   "source": [
    "For this project I will use Foursquare location data to learn about venues in the vicinity of three potential vacation spots. I will sort and summarize the data in order to generate a profile of each location and a recommendation for what type of vacationer might most enjoy each spot.\n",
    "\n",
    "Specifically, I have chosen three different beach towns in New England for my vacationer to consider.\n",
    "\n",
    "People interested in this project might include:\n",
    "1. Travel agencies\n",
    "2. Developers of travel sites or apps\n",
    "3. DIY vacation planners"
   ]
  },
  {
   "cell_type": "markdown",
   "metadata": {},
   "source": [
    "## Data"
   ]
  },
  {
   "cell_type": "markdown",
   "metadata": {},
   "source": [
    "I will use the Foursquare API to gather location data for the three sample vacation spots. Specifically, I will get the name, category, and location (latitude and longitude) of all the venues within 1500 meters of each address.\n",
    "\n",
    "I will use this data to:\n",
    "1. Paint a summary picture of each location, including:\n",
    "    - the number of venues in the area\n",
    "    - the types of venues in the area\n",
    "    - the ratio of eateries to other types of venue\n",
    "2. Group the venues by category to give a vacationer an idea of the diversity of options in the area\n",
    "3. Display the venues on a map, color coded by category groups, so a vacationer can visualize the area and the venues nearby"
   ]
  }
 ],
 "metadata": {
  "kernelspec": {
   "display_name": "Python 3",
   "language": "python",
   "name": "python3"
  },
  "language_info": {
   "codemirror_mode": {
    "name": "ipython",
    "version": 3
   },
   "file_extension": ".py",
   "mimetype": "text/x-python",
   "name": "python",
   "nbconvert_exporter": "python",
   "pygments_lexer": "ipython3",
   "version": "3.8.5"
  }
 },
 "nbformat": 4,
 "nbformat_minor": 4
}
